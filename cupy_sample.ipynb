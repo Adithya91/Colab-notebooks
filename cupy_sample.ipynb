#!/usr/bin/env python
# -*- coding: utf-8 -*-

import cupy as cp
import numpy as np
import time


n = 9999999
sum_kernel = cp.ElementwiseKernel('float32 x, float32 y',
'float32 z','z = x+y','sum_kernel')

start_k = time.time()

x = cp.random.rand(n).astype(np.float32)
y = cp.random.rand(n).astype(np.float32)
z= sum_kernel(x,y)

stop_k = time.time()

t1 = stop_k-start_k

print("Execution time for array size",n,"is", t1)
