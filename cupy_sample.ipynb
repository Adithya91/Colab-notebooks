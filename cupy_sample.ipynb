{
  "nbformat": 4,
  "nbformat_minor": 0,
  "metadata": {
    "colab": {
      "name": "Untitled5.ipynb",
      "provenance": []
    },
    "kernelspec": {
      "name": "python3",
      "display_name": "Python 3"
    },
    "accelerator": "GPU"
  },
  "cells": [
    {
      "cell_type": "code",
      "metadata": {
        "id": "t2ohOONFe3y1",
        "colab_type": "code",
        "colab": {
          "base_uri": "https://localhost:8080/",
          "height": 204
        },
        "outputId": "cac48523-7e79-497a-c8d3-ec72912dcaf1"
      },
      "source": [
        "import cupy as cp\n",
        "import numpy as np\n",
        "import time\n",
        "\n",
        "\n",
        "n = 9999999\n",
        "sum_kernel = cp.ElementwiseKernel('float32 x, float32 y',\n",
        "'float32 z','z = x+y','sum_kernel')\n",
        "\n",
        "start_k = time.time()\n",
        "\n",
        "x = cp.random.rand(n).astype(np.float32)\n",
        "y = cp.random.rand(n).astype(np.float32)\n",
        "z= sum_kernel(x,y)\n",
        "\n",
        "stop_k = time.time()\n",
        "\n",
        "t1 = stop_k-start_k\n",
        "\n",
        "print(\"Execution time for array size\",n,\"is\", t1)"
      ],
      "execution_count": 5,
      "outputs": [
        {
          "output_type": "stream",
          "text": [
            "===============================================================\n",
            "Platform name: NVIDIA CUDA\n",
            "Platform profile: FULL_PROFILE\n",
            "Platform vendor: NVIDIA Corporation\n",
            "Platform version: OpenCL 1.2 CUDA 10.1.152\n",
            "===============================================================\n",
            "Device name: Tesla T4\n",
            "Device type: GPU\n",
            "Device memory:  15079 MB\n",
            "Device max clock speed: 1590 MHz\n",
            "Device compute units: 40\n"
          ],
          "name": "stdout"
        }
      ]
    }
  ]
}
