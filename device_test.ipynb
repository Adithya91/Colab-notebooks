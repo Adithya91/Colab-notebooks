{
  "nbformat": 4,
  "nbformat_minor": 0,
  "metadata": {
    "colab": {
      "name": "Untitled5.ipynb",
      "provenance": []
    },
    "kernelspec": {
      "name": "python3",
      "display_name": "Python 3"
    },
    "accelerator": "GPU"
  },
  "cells": [
    {
      "cell_type": "code",
      "metadata": {
        "id": "t2ohOONFe3y1",
        "colab_type": "code",
        "colab": {
          "base_uri": "https://localhost:8080/",
          "height": 204
        },
        "outputId": "cac48523-7e79-497a-c8d3-ec72912dcaf1"
      },
      "source": [
        "import pyopencl as cl\n",
        "import numpy\n",
        "import numpy.linalg as la\n",
        "import datetime\n",
        "from time import time\n",
        "\n",
        "a = numpy.random.rand(10000000).astype(numpy.float32)\n",
        "b = numpy.random.rand(10000000).astype(numpy.float32)\n",
        "c_result = numpy.empty_like(a)\n",
        "\n",
        "# CPU usage\n",
        "t1 = time()\n",
        "for i in range(1000):\n",
        "        for j in range(1000):\n",
        "                c_result[i] = a[i] + b[i]\n",
        "                c_result[i] = c_result[i] * (a[i] + b[i])\n",
        "                c_result[i] = c_result[i] * (a[i] / 99.0)\n",
        "t2 = time()\n",
        "print (\"Execution time using CPU: \", t2 - t1, \"s\")\n",
        "\n",
        "for platform in cl.get_platforms():\n",
        "    for device in platform.get_devices():\n",
        "\t\t# Using GPU\n",
        "      ctx = cl.Context([device])\n",
        "      queue = cl.CommandQueue(ctx, \n",
        "      properties=cl.command_queue_properties.PROFILING_ENABLE)\n",
        "\n",
        "      mf = cl.mem_flags\n",
        "      a_buf = cl.Buffer(ctx, mf.READ_ONLY | mf.COPY_HOST_PTR, hostbuf=a)\n",
        "      b_buf = cl.Buffer(ctx, mf.READ_ONLY | mf.COPY_HOST_PTR, hostbuf=b)\n",
        "      dest_buf = cl.Buffer(ctx, mf.WRITE_ONLY, b.nbytes)\n",
        "\n",
        "      prg = cl.Program(ctx, \"\"\"\n",
        "        __kernel void sum(__global const float *a,\n",
        "        __global const float *b, __global float *c)\n",
        "          {\n",
        "          int loop;\n",
        "          int gid = get_global_id(0);\n",
        "          for(loop=0; loop<1000;loop++)\n",
        "            {\n",
        "            c[gid] = a[gid] + b[gid];\n",
        "            c[gid] = c[gid] * (a[gid] + b[gid]);\n",
        "            c[gid] = c[gid] * (a[gid] / 99.0);\n",
        "            }\n",
        "          }\n",
        "          \"\"\").build()\n",
        "\n",
        "      exec_evt = prg.sum(queue, a.shape, None, a_buf, b_buf, dest_buf)\n",
        "      exec_evt.wait()\n",
        "      t_gpu = 1e-9*(exec_evt.profile.end - exec_evt.profile.start)\n",
        "\n",
        "      print (\"Execution time using PyopenCL: %g s\" % t_gpu)\n",
        "\n",
        "      c = numpy.empty_like(a)\n",
        "      cl.enqueue_copy(queue, dest_buf, c).wait()\n",
        "      flag = 0\n",
        "      for i in range(1000):\n",
        "        if c[i] != c_result[i]:\n",
        "         flag = 1\n",
        "      \n",
        "      if flag:\n",
        "          print (\"GPU execution is faster\")\n",
        "      else:\n",
        "          print (\"CPU execution is faster\")\n"
      ],
      "execution_count": 5,
      "outputs": [
        {
          "output_type": "stream",
          "text": [
            "===============================================================\n",
            "Platform name: NVIDIA CUDA\n",
            "Platform profile: FULL_PROFILE\n",
            "Platform vendor: NVIDIA Corporation\n",
            "Platform version: OpenCL 1.2 CUDA 10.1.152\n",
            "===============================================================\n",
            "Device name: Tesla T4\n",
            "Device type: GPU\n",
            "Device memory:  15079 MB\n",
            "Device max clock speed: 1590 MHz\n",
            "Device compute units: 40\n"
          ],
          "name": "stdout"
        }
      ]
    }
  ]
}
