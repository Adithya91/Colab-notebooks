{
  "nbformat": 4,
  "nbformat_minor": 0,
  "metadata": {
    "colab": {
      "name": "Untitled5.ipynb",
      "provenance": []
    },
    "kernelspec": {
      "name": "python3",
      "display_name": "Python 3"
    },
    "accelerator": "GPU"
  },
  "cells": [
    {
      "cell_type": "code",
      "metadata": {
        "id": "t2ohOONFe3y1",
        "colab_type": "code",
        "colab": {}
      },
      "source": [
        "from __future__ import absolute_import, print_function\n",
        "import numpy as np\n",
        "import pyopencl as cl\n",
        "import time\n",
        "\n",
        "\n",
        "n = 9999999\n",
        "a_np = np.random.rand(n).astype(np.float32)\n",
        "b_np = np.random.rand(n).astype(np.float32)\n",
        "\n",
        "ctx = cl.create_some_context()\n",
        "queue = cl.CommandQueue(ctx)\n",
        "\n",
        "mf = cl.mem_flags\n",
        "\n",
        "start_k = time.time()\n",
        "a_g = cl.Buffer(ctx, mf.READ_ONLY | mf.COPY_HOST_PTR, hostbuf=a_np)\n",
        "b_g = cl.Buffer(ctx, mf.READ_ONLY | mf.COPY_HOST_PTR, hostbuf=b_np)\n",
        "\n",
        "prg = cl.Program(ctx, \"\"\"\n",
        "__kernel void sum(\n",
        "    __global const float *a_g, __global const float *b_g, __global float *res_g)\n",
        "{\n",
        "  int gid = get_global_id(0);\n",
        "  res_g[gid] = a_g[gid] + b_g[gid];\n",
        "}\n",
        "\"\"\").build()\n",
        "\n",
        "res_g = cl.Buffer(ctx, mf.WRITE_ONLY, a_np.nbytes)\n",
        "prg.sum(queue, a_np.shape, None, a_g, b_g, res_g)  # a_np + b_np\n",
        "res_np = np.empty_like(a_np)\n",
        "cl.enqueue_copy(queue, res_np, res_g)\n",
        "\n",
        "stop_k = time.time()\n",
        "t1 = stop_k-start_k\n",
        "\n",
        "print(\"Execution time for array size\",n,\"is\", t1)"
      ],
      "execution_count": 0,
      "outputs": []
    }
  ]
}
